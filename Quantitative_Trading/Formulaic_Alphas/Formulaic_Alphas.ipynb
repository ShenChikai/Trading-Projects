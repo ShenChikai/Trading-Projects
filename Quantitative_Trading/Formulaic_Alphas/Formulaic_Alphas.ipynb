{
 "cells": [
  {
   "cell_type": "markdown",
   "metadata": {},
   "source": [
    "# Strategy Map\n",
    "> ## Libraries Use Cases\n",
    "> - yfinance for OHLCV data\n",
    "> - pandas for data analysis\n",
    "> - talib for technical indicator calculations\n",
    "> - mplfinance for visualization\n",
    "\n",
    "> ## Formulaic a-22 Quant Strategy\n",
    "> - Alpha#22: $$(-1 * (delta(correlation(high, volume, 5), 5) * rank(stddev(close,20))))$$"
   ]
  },
  {
   "cell_type": "markdown",
   "metadata": {},
   "source": [
    "# Import Dependencies"
   ]
  },
  {
   "cell_type": "code",
   "execution_count": 1,
   "metadata": {},
   "outputs": [],
   "source": [
    "import yfinance as yf\n",
    "import numpy as np\n",
    "import matplotlib.pyplot as plt\n",
    "import pandas as pd\n",
    "import math\n",
    "# MACD/EMA from TA\n",
    "from ta.trend import MACD, EMAIndicator\n",
    "# Boll from TA\n",
    "from ta.volatility import BollingerBands"
   ]
  },
  {
   "cell_type": "markdown",
   "metadata": {},
   "source": [
    "# Pull OHLCV from yfinance"
   ]
  },
  {
   "cell_type": "code",
   "execution_count": null,
   "metadata": {},
   "outputs": [],
   "source": []
  },
  {
   "cell_type": "markdown",
   "metadata": {},
   "source": []
  }
 ],
 "metadata": {
  "kernelspec": {
   "display_name": "Python 3.9.12 ('base')",
   "language": "python",
   "name": "python3"
  },
  "language_info": {
   "codemirror_mode": {
    "name": "ipython",
    "version": 3
   },
   "file_extension": ".py",
   "mimetype": "text/x-python",
   "name": "python",
   "nbconvert_exporter": "python",
   "pygments_lexer": "ipython3",
   "version": "3.9.12"
  },
  "orig_nbformat": 4,
  "vscode": {
   "interpreter": {
    "hash": "88279d2366fe020547cde40dd65aa0e3aa662a6ec1f3ca12d88834876c85e1a6"
   }
  }
 },
 "nbformat": 4,
 "nbformat_minor": 2
}
